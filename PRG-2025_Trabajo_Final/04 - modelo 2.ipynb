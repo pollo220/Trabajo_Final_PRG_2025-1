{
 "cells": [
  {
   "cell_type": "markdown",
   "id": "ebad52e6",
   "metadata": {},
   "source": [
    "# Modelo 2: SVM"
   ]
  },
  {
   "cell_type": "code",
   "execution_count": null,
   "id": "c9c24a03",
   "metadata": {},
   "outputs": [],
   "source": [
    "from sklearn.svm import SVC\n",
    "from sklearn.model_selection import GridSearchCV, learning_curve\n",
    "from sklearn.metrics import classification_report, confusion_matrix\n",
    "import matplotlib.pyplot as plt\n",
    "\n",
    "param_grid = {'C': [0.1, 1, 10], 'kernel': ['linear', 'rbf']}\n",
    "grid = GridSearchCV(SVC(), param_grid, cv=3)\n",
    "grid.fit(X_train, y_train)\n",
    "\n",
    "y_pred = grid.predict(X_test)\n",
    "print(confusion_matrix(y_test, y_pred))\n",
    "print(classification_report(y_test, y_pred))\n",
    "\n",
    "train_sizes, train_scores, test_scores = learning_curve(grid.best_estimator_, X_train, y_train, cv=3)\n",
    "plt.plot(train_sizes, train_scores.mean(axis=1), label='Train')\n",
    "plt.plot(train_sizes, test_scores.mean(axis=1), label='Validation')\n",
    "plt.legend()\n",
    "plt.title('Curva de Aprendizaje - SVM')\n",
    "plt.xlabel('Tamaño del conjunto de entrenamiento')\n",
    "plt.ylabel('Score')\n",
    "plt.show()"
   ]
  }
 ],
 "metadata": {},
 "nbformat": 4,
 "nbformat_minor": 5
}
