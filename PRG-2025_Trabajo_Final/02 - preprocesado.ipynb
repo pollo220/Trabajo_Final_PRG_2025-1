{
 "cells": [
  {
   "cell_type": "markdown",
   "id": "1dfab33d",
   "metadata": {},
   "source": [
    "# Preprocesamiento de datos"
   ]
  },
  {
   "cell_type": "code",
   "execution_count": null,
   "id": "c20f664e",
   "metadata": {},
   "outputs": [],
   "source": [
    "import pandas as pd\n",
    "from sklearn.impute import SimpleImputer\n",
    "from sklearn.preprocessing import StandardScaler\n",
    "\n",
    "df = pd.read_csv('06 - dataset.csv')\n",
    "X = df.drop('clase', axis=1)\n",
    "y = df['clase']\n",
    "\n",
    "imputer = SimpleImputer(strategy='mean')\n",
    "X_imputed = imputer.fit_transform(X)\n",
    "\n",
    "scaler = StandardScaler()\n",
    "X_scaled = scaler.fit_transform(X_imputed)"
   ]
  }
 ],
 "metadata": {},
 "nbformat": 4,
 "nbformat_minor": 5
}
