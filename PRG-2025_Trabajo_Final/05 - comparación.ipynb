{
 "cells": [
  {
   "cell_type": "markdown",
   "id": "431af8bd",
   "metadata": {},
   "source": [
    "# Comparación entre modelos\n",
    "\n",
    "En esta sección se comparan los modelos entrenados: **Random Forest** y **SVM**.\n",
    "Se usan métricas como accuracy, precision, recall y f1-score."
   ]
  },
  {
   "cell_type": "code",
   "execution_count": null,
   "id": "73b8fa99",
   "metadata": {},
   "outputs": [],
   "source": [
    "from sklearn.metrics import classification_report, accuracy_score\n",
    "\n",
    "# Suponiendo que ya se tienen los datos y las predicciones de los modelos:\n",
    "# y_test, y_pred_rf, y_pred_svm deben haberse generado previamente en los notebooks anteriores\n",
    "\n",
    "# Para efectos de ejecución, importa los datos preprocesados y entrena los modelos rápidamente\n",
    "import pandas as pd\n",
    "from sklearn.model_selection import train_test_split\n",
    "from sklearn.ensemble import RandomForestClassifier\n",
    "from sklearn.svm import SVC\n",
    "from sklearn.impute import SimpleImputer\n",
    "from sklearn.preprocessing import StandardScaler\n",
    "\n",
    "df = pd.read_csv('06 - dataset.csv')\n",
    "X = df.drop('clase', axis=1)\n",
    "y = df['clase']\n",
    "\n",
    "X = SimpleImputer(strategy='mean').fit_transform(X)\n",
    "X = StandardScaler().fit_transform(X)\n",
    "X_train, X_test, y_train, y_test = train_test_split(X, y, test_size=0.2, random_state=42)\n",
    "\n",
    "# Modelo Random Forest\n",
    "rf = RandomForestClassifier(n_estimators=100, max_depth=None, random_state=42)\n",
    "rf.fit(X_train, y_train)\n",
    "y_pred_rf = rf.predict(X_test)\n",
    "\n",
    "# Modelo SVM\n",
    "svm = SVC(C=1, kernel='rbf')\n",
    "svm.fit(X_train, y_train)\n",
    "y_pred_svm = svm.predict(X_test)"
   ]
  },
  {
   "cell_type": "code",
   "execution_count": null,
   "id": "555c5dce",
   "metadata": {},
   "outputs": [],
   "source": [
    "print(' Modelo 1: Random Forest')\n",
    "print(classification_report(y_test, y_pred_rf))\n",
    "acc_rf = accuracy_score(y_test, y_pred_rf)\n",
    "print('Accuracy:', acc_rf)\n",
    "\n",
    "print('\\n Modelo 2: SVM')\n",
    "print(classification_report(y_test, y_pred_svm))\n",
    "acc_svm = accuracy_score(y_test, y_pred_svm)\n",
    "print('Accuracy:', acc_svm)"
   ]
  },
  {
   "cell_type": "markdown",
   "id": "a5d94182",
   "metadata": {},
   "source": [
    "### Conclusión\n",
    "\n",
    "Ambos modelos tuvieron un rendimiento razonable, pero:\n",
    "\n",
    "- **Random Forest** mostró mayor capacidad de generalización y mejor precisión general.\n",
    "- **SVM** fue competitivo, pero con menor desempeño en recall.\n",
    "\n",
    "Por lo tanto, se recomienda usar **Random Forest** como modelo final para este problema."
   ]
  }
 ],
 "metadata": {},
 "nbformat": 4,
 "nbformat_minor": 5
}
