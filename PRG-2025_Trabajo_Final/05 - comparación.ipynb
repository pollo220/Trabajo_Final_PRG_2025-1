{
 "cells": [
  {
   "cell_type": "markdown",
   "id": "cc584fa3",
   "metadata": {},
   "source": [
    "# Comparación entre modelos"
   ]
  },
  {
   "cell_type": "code",
   "execution_count": null,
   "id": "45304645",
   "metadata": {},
   "outputs": [],
   "source": [
    "print('Modelo 1: Random Forest vs Modelo 2: SVM')\n",
    "# Aquí puedes agregar código para comparar métricas específicas si lo deseas"
   ]
  }
 ],
 "metadata": {},
 "nbformat": 4,
 "nbformat_minor": 5
}
