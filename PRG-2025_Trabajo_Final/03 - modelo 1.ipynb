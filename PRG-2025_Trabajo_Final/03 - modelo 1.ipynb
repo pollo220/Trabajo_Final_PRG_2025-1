{
 "cells": [
  {
   "cell_type": "markdown",
   "id": "b1b8a136",
   "metadata": {},
   "source": [
    "# Modelo 1: Random Forest"
   ]
  },
  {
   "cell_type": "code",
   "execution_count": null,
   "id": "f07a4cc4",
   "metadata": {},
   "outputs": [],
   "source": [
    "from sklearn.ensemble import RandomForestClassifier\n",
    "from sklearn.model_selection import train_test_split, GridSearchCV, learning_curve\n",
    "from sklearn.metrics import classification_report, confusion_matrix\n",
    "import matplotlib.pyplot as plt\n",
    "\n",
    "X_train, X_test, y_train, y_test = train_test_split(X_scaled, y, test_size=0.2, random_state=42)\n",
    "\n",
    "param_grid = {'n_estimators': [50, 100], 'max_depth': [None, 10, 20]}\n",
    "grid = GridSearchCV(RandomForestClassifier(), param_grid, cv=3)\n",
    "grid.fit(X_train, y_train)\n",
    "\n",
    "y_pred = grid.predict(X_test)\n",
    "print(confusion_matrix(y_test, y_pred))\n",
    "print(classification_report(y_test, y_pred))\n",
    "\n",
    "train_sizes, train_scores, test_scores = learning_curve(grid.best_estimator_, X_train, y_train, cv=3)\n",
    "plt.plot(train_sizes, train_scores.mean(axis=1), label='Train')\n",
    "plt.plot(train_sizes, test_scores.mean(axis=1), label='Validation')\n",
    "plt.legend()\n",
    "plt.title('Curva de Aprendizaje - Random Forest')\n",
    "plt.xlabel('Tamaño del conjunto de entrenamiento')\n",
    "plt.ylabel('Score')\n",
    "plt.show()"
   ]
  }
 ],
 "metadata": {},
 "nbformat": 4,
 "nbformat_minor": 5
}
